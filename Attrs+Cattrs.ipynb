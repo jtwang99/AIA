{
  "nbformat": 4,
  "nbformat_minor": 0,
  "metadata": {
    "colab": {
      "name": "Attrs+Cattrs.ipynb",
      "provenance": [],
      "collapsed_sections": [],
      "include_colab_link": true
    },
    "kernelspec": {
      "name": "python3",
      "display_name": "Python 3"
    }
  },
  "cells": [
    {
      "cell_type": "markdown",
      "metadata": {
        "id": "view-in-github",
        "colab_type": "text"
      },
      "source": [
        "<a href=\"https://colab.research.google.com/github/jtwang99/AIA/blob/master/Attrs%2BCattrs.ipynb\" target=\"_parent\"><img src=\"https://colab.research.google.com/assets/colab-badge.svg\" alt=\"Open In Colab\"/></a>"
      ]
    },
    {
      "cell_type": "markdown",
      "metadata": {
        "id": "luZZ-dz0QVt4"
      },
      "source": [
        "# Install Attrs & Cattrs libraries"
      ]
    },
    {
      "cell_type": "code",
      "metadata": {
        "id": "23a8YfW38CWI",
        "colab": {
          "base_uri": "https://localhost:8080/",
          "height": 68
        },
        "outputId": "523f0d12-20c7-4e81-cba8-7be88d394802"
      },
      "source": [
        "!pip install attrs\n",
        "!pip install cattrs"
      ],
      "execution_count": null,
      "outputs": [
        {
          "output_type": "stream",
          "text": [
            "Requirement already satisfied: attrs in /usr/local/lib/python3.6/dist-packages (19.3.0)\n",
            "Requirement already satisfied: cattrs in /usr/local/lib/python3.6/dist-packages (1.0.0)\n",
            "Requirement already satisfied: attrs>=17.3 in /usr/local/lib/python3.6/dist-packages (from cattrs) (19.3.0)\n"
          ],
          "name": "stdout"
        }
      ]
    },
    {
      "cell_type": "code",
      "metadata": {
        "id": "B9XgXMZMQ7xr"
      },
      "source": [
        "from attr import attrs, attrib\n",
        "import cattr"
      ],
      "execution_count": null,
      "outputs": []
    },
    {
      "cell_type": "markdown",
      "metadata": {
        "id": "I54ziuwQQn0F"
      },
      "source": [
        "# Basic Usage"
      ]
    },
    {
      "cell_type": "code",
      "metadata": {
        "id": "AiwFFfNlfi5T"
      },
      "source": [
        "from typing import Tuple"
      ],
      "execution_count": null,
      "outputs": []
    },
    {
      "cell_type": "code",
      "metadata": {
        "id": "gzCP5jZSPgLB",
        "colab": {
          "base_uri": "https://localhost:8080/",
          "height": 34
        },
        "outputId": "c4ee9912-50e4-477d-d35c-dd6408d28e97"
      },
      "source": [
        "cattr.structure([1.01, True, False, \"2\", \"I will be ignored\"], Tuple[int, int, int, int])"
      ],
      "execution_count": null,
      "outputs": [
        {
          "output_type": "execute_result",
          "data": {
            "text/plain": [
              "(1, 1, 0, 2)"
            ]
          },
          "metadata": {
            "tags": []
          },
          "execution_count": 14
        }
      ]
    },
    {
      "cell_type": "markdown",
      "metadata": {
        "id": "0k3-dzuNQuW-"
      },
      "source": [
        "# Cattrs work with Attrs"
      ]
    },
    {
      "cell_type": "code",
      "metadata": {
        "id": "YhxRQZejP2cO"
      },
      "source": [
        "@attrs\n",
        "class Person:\n",
        "  name = attrib()\n",
        "  age = attrib()\n",
        "\n",
        "  def tell_age(self):\n",
        "    print(f'My name is {self.name} and my age is {self.age}.')"
      ],
      "execution_count": null,
      "outputs": []
    },
    {
      "cell_type": "code",
      "metadata": {
        "id": "N9ScG4KUlM9p",
        "colab": {
          "base_uri": "https://localhost:8080/",
          "height": 34
        },
        "outputId": "d2e265a7-66ff-4f1e-d412-f7ba73c069b5"
      },
      "source": [
        "from attr import asdict\n",
        "\n",
        "p1 = Person('Chris', 32)\n",
        "asdict(p1)"
      ],
      "execution_count": null,
      "outputs": [
        {
          "output_type": "execute_result",
          "data": {
            "text/plain": [
              "{'age': 32, 'name': 'Chris'}"
            ]
          },
          "metadata": {
            "tags": []
          },
          "execution_count": 22
        }
      ]
    },
    {
      "cell_type": "code",
      "metadata": {
        "id": "ZnW7EXyuRqup",
        "colab": {
          "base_uri": "https://localhost:8080/",
          "height": 34
        },
        "outputId": "970d60f0-a210-4e70-fa77-ed17091fd349"
      },
      "source": [
        "cattr.unstructure(p1)"
      ],
      "execution_count": null,
      "outputs": [
        {
          "output_type": "execute_result",
          "data": {
            "text/plain": [
              "{'age': 32, 'name': 'Chris'}"
            ]
          },
          "metadata": {
            "tags": []
          },
          "execution_count": 23
        }
      ]
    },
    {
      "cell_type": "code",
      "metadata": {
        "id": "mBo-8JNmRzXF",
        "colab": {
          "base_uri": "https://localhost:8080/",
          "height": 34
        },
        "outputId": "e309be44-5a3b-4b14-adfc-0d8234c32ccf"
      },
      "source": [
        "p2 = cattr.structure({'name': 'Chelsea', 'age': 1}, Person)\n",
        "p2"
      ],
      "execution_count": null,
      "outputs": [
        {
          "output_type": "execute_result",
          "data": {
            "text/plain": [
              "Person(name='Chelsea', age=1)"
            ]
          },
          "metadata": {
            "tags": []
          },
          "execution_count": 24
        }
      ]
    },
    {
      "cell_type": "code",
      "metadata": {
        "id": "vR0aiWcrR3Qr",
        "colab": {
          "base_uri": "https://localhost:8080/",
          "height": 34
        },
        "outputId": "0ee70243-1c32-411e-adbe-c9d8ee1cff81"
      },
      "source": [
        "p2.tell_age()"
      ],
      "execution_count": null,
      "outputs": [
        {
          "output_type": "stream",
          "text": [
            "My name is Chelsea and my age is 1.\n"
          ],
          "name": "stdout"
        }
      ]
    },
    {
      "cell_type": "markdown",
      "metadata": {
        "id": "FngSynMRSx6o"
      },
      "source": [
        "# Cattrs works with a list of dictionaries"
      ]
    },
    {
      "cell_type": "code",
      "metadata": {
        "id": "rcvZ701qSYm8"
      },
      "source": [
        "p_list_raw = [\n",
        "  {'name': 'Alice', 'age': 20},\n",
        "  {'name': 'Bob', 'age': 25},\n",
        "  {'name': 'Chris', 'age': 32}\n",
        "]"
      ],
      "execution_count": null,
      "outputs": []
    },
    {
      "cell_type": "code",
      "metadata": {
        "id": "A3l06d14T75k",
        "colab": {
          "base_uri": "https://localhost:8080/",
          "height": 68
        },
        "outputId": "02acdc0b-4279-47c6-8cf0-5e24c4a8da87"
      },
      "source": [
        "from typing import List\n",
        "\n",
        "p_list = cattr.structure(p_list_raw, List[Person])\n",
        "p_list"
      ],
      "execution_count": null,
      "outputs": [
        {
          "output_type": "execute_result",
          "data": {
            "text/plain": [
              "[Person(name='Alice', age=20),\n",
              " Person(name='Bob', age=25),\n",
              " Person(name='Chris', age=32)]"
            ]
          },
          "metadata": {
            "tags": []
          },
          "execution_count": 27
        }
      ]
    },
    {
      "cell_type": "code",
      "metadata": {
        "id": "4wzdfRhgUACI",
        "colab": {
          "base_uri": "https://localhost:8080/",
          "height": 68
        },
        "outputId": "a4b9c814-6a61-4c2a-8b1d-394c8304ce9e"
      },
      "source": [
        "for p in p_list:\n",
        "  p.tell_age()"
      ],
      "execution_count": null,
      "outputs": [
        {
          "output_type": "stream",
          "text": [
            "My name is Alice and my age is 20.\n",
            "My name is Bob and my age is 25.\n",
            "My name is Chris and my age is 32.\n"
          ],
          "name": "stdout"
        }
      ]
    },
    {
      "cell_type": "markdown",
      "metadata": {
        "id": "qxl8kqYMYk-0"
      },
      "source": [
        "# Works with JSON"
      ]
    },
    {
      "cell_type": "code",
      "metadata": {
        "id": "9Vkf1njXXiXq",
        "colab": {
          "base_uri": "https://localhost:8080/",
          "height": 68
        },
        "outputId": "c5509c47-44e3-4768-afdb-0a27d50c00de"
      },
      "source": [
        "p_list"
      ],
      "execution_count": null,
      "outputs": [
        {
          "output_type": "execute_result",
          "data": {
            "text/plain": [
              "[Person(name='Alice', age=20),\n",
              " Person(name='Bob', age=25),\n",
              " Person(name='Chris', age=32)]"
            ]
          },
          "metadata": {
            "tags": []
          },
          "execution_count": 29
        }
      ]
    },
    {
      "cell_type": "code",
      "metadata": {
        "id": "WJvBXWN1X76M",
        "colab": {
          "base_uri": "https://localhost:8080/",
          "height": 34
        },
        "outputId": "b3df4bfa-8f91-4156-bf53-72a61e5e0a68"
      },
      "source": [
        "import json\n",
        "\n",
        "json_obj = json.dumps(cattr.unstructure(p_list))\n",
        "print(json_obj)"
      ],
      "execution_count": null,
      "outputs": [
        {
          "output_type": "stream",
          "text": [
            "[{\"name\": \"Alice\", \"age\": 20}, {\"name\": \"Bob\", \"age\": 25}, {\"name\": \"Chris\", \"age\": 32}]\n"
          ],
          "name": "stdout"
        }
      ]
    },
    {
      "cell_type": "code",
      "metadata": {
        "id": "hrjF529xYzC5",
        "colab": {
          "base_uri": "https://localhost:8080/",
          "height": 68
        },
        "outputId": "70fdafdb-a697-49aa-9d0f-4c13f2815538"
      },
      "source": [
        "p_list = cattr.structure(json.loads(json_obj), List[Person])\n",
        "p_list"
      ],
      "execution_count": null,
      "outputs": [
        {
          "output_type": "execute_result",
          "data": {
            "text/plain": [
              "[Person(name='Alice', age=20),\n",
              " Person(name='Bob', age=25),\n",
              " Person(name='Chris', age=32)]"
            ]
          },
          "metadata": {
            "tags": []
          },
          "execution_count": 31
        }
      ]
    },
    {
      "cell_type": "code",
      "metadata": {
        "id": "X-AsEBR2ZlU5",
        "colab": {
          "base_uri": "https://localhost:8080/",
          "height": 68
        },
        "outputId": "68230ff1-ce6b-48f5-b5d4-ab96f25fb505"
      },
      "source": [
        "for p in p_list:\n",
        "  p.tell_age()"
      ],
      "execution_count": null,
      "outputs": [
        {
          "output_type": "stream",
          "text": [
            "My name is Alice and my age is 20.\n",
            "My name is Bob and my age is 25.\n",
            "My name is Chris and my age is 32.\n"
          ],
          "name": "stdout"
        }
      ]
    },
    {
      "cell_type": "code",
      "metadata": {
        "id": "dTFCYqGTZ9gd"
      },
      "source": [
        ""
      ],
      "execution_count": null,
      "outputs": []
    }
  ]
}